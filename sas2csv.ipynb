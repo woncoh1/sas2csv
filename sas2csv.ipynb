{
  "nbformat": 4,
  "nbformat_minor": 0,
  "metadata": {
    "colab": {
      "name": "sas2csv-general.ipynb",
      "provenance": [],
      "collapsed_sections": [],
      "authorship_tag": "ABX9TyM1rqxNd1dwxdN29BdhU+4l",
      "include_colab_link": true
    },
    "kernelspec": {
      "name": "ir",
      "display_name": "R"
    },
    "language_info": {
      "name": "R"
    },
    "accelerator": "GPU",
    "gpuClass": "standard"
  },
  "cells": [
    {
      "cell_type": "markdown",
      "metadata": {
        "id": "view-in-github",
        "colab_type": "text"
      },
      "source": [
        "<a href=\"https://colab.research.google.com/github/woncoh1/sas2csv/blob/main/sas2csv_general.ipynb\" target=\"_parent\"><img src=\"https://colab.research.google.com/assets/colab-badge.svg\" alt=\"Open In Colab\"/></a>"
      ]
    },
    {
      "cell_type": "markdown",
      "source": [
        "# Instructions\n",
        "- Purpose\n",
        "    - This notebook converts `.sas7bdat` files to `.csv` files\n",
        "    - All files should be stored in Google Drive\n",
        "    - The raw `.sas7bdat` files can be moved to trash or left intact\n",
        "- File permission\n",
        "    - You need write (editor) permission for the folder of interest and its parent folder\n",
        "    - Only owners can move exisiting files to trash\n",
        "- Folder structure\n",
        "    - Folder\n",
        "        - Subfolder 1\n",
        "            - `.sas7bdat` 1\n",
        "            - `.sas7bdat` 2\n",
        "            - ...\n",
        "            - `.sas7bdat` n\n",
        "        - Subfolder 2\n",
        "        - ...\n",
        "        - Subfolder n"
      ],
      "metadata": {
        "id": "m0WkfEN3Pc0Q"
      }
    },
    {
      "cell_type": "markdown",
      "source": [
        "# Import Libraries"
      ],
      "metadata": {
        "id": "ce7KM8jKz4sd"
      }
    },
    {
      "cell_type": "code",
      "source": [
        "library(tidyverse)\n",
        "library(haven)\n",
        "library(googledrive)"
      ],
      "metadata": {
        "id": "zvRAmHjI67l5"
      },
      "execution_count": null,
      "outputs": []
    },
    {
      "cell_type": "markdown",
      "source": [
        "# Define Constants"
      ],
      "metadata": {
        "id": "OYoBAaMUBQxp"
      }
    },
    {
      "cell_type": "code",
      "source": [
        "#@title Select SAS Encoding {run: 'auto'}\n",
        "SAS_ENCODING = 'cp949' #@param ['cp949']"
      ],
      "metadata": {
        "cellView": "form",
        "id": "rU12YvtpSUhM"
      },
      "execution_count": null,
      "outputs": []
    },
    {
      "cell_type": "code",
      "source": [
        "#@title Enter Folder ID {run: 'auto'}\n",
        "FOLDER_ID = '' #@param {type: 'string'}"
      ],
      "metadata": {
        "cellView": "form",
        "id": "N62tJmMWuzlw"
      },
      "execution_count": null,
      "outputs": []
    },
    {
      "cell_type": "code",
      "source": [
        "#@title Delete `.sas7bdat` Files? {run: 'auto'}\n",
        "#@markdown **WARNING**:\n",
        "#@markdown - Selecting \"Yes\" will move raw `.sas7bdat` files to trash\n",
        "#@markdown - You need **Owner** permission to move files to trash\n",
        "DELETE_ALL = 'No' #@param ['Yes', 'No']\n",
        "DELETES = c(\n",
        "    No=FALSE,\n",
        "    Yes=TRUE\n",
        ")\n",
        "DELETE_RAW <- DELETES[[DELETE_ALL]]"
      ],
      "metadata": {
        "cellView": "form",
        "id": "X4WM7-j583Cj"
      },
      "execution_count": null,
      "outputs": []
    },
    {
      "cell_type": "markdown",
      "source": [
        "# Authenticate Drive\n",
        "- In order to access files in Google Drive, we need authentication, which requires an interactive R session\n",
        "- Unfortunately, R session in Colab is non-interactive by default, so we need to monkey-patch, as described [here](https://towardsdatascience.com/how-to-use-r-in-google-colab-b6e02d736497#2176):"
      ],
      "metadata": {
        "id": "Decn8NYoQRQv"
      }
    },
    {
      "cell_type": "code",
      "source": [
        "colab_kernel = '/usr/local/lib/python3.7/dist-packages/google/colab/_ipython.py'\n",
        "is_colab = file.exists(colab_kernel)\n",
        "if (is_colab) {\n",
        "    install.packages('R.utils')\n",
        "    library('R.utils')\n",
        "    library('httr')\n",
        "    reassignInPackage('is_interactive', pkgName='httr', function() TRUE)\n",
        "    options(rlang_interactive=TRUE)\n",
        "}"
      ],
      "metadata": {
        "id": "BgHaJNBlCZB5"
      },
      "execution_count": null,
      "outputs": []
    },
    {
      "cell_type": "code",
      "source": [
        "drive_auth(use_oob=TRUE, cache=TRUE)"
      ],
      "metadata": {
        "id": "T6cn-Ra_-s4I"
      },
      "execution_count": null,
      "outputs": []
    },
    {
      "cell_type": "markdown",
      "source": [
        "# List Folders"
      ],
      "metadata": {
        "id": "s2lkv9o9QUH8"
      }
    },
    {
      "cell_type": "code",
      "source": [
        "with_drive_quiet(\n",
        "    folders <- FOLDER_ID %>%\n",
        "        as_id() %>%\n",
        "        as_dribble() %>%\n",
        "        drive_ls(type='folder', trashed=FALSE) %>%\n",
        "        arrange(name)\n",
        ")\n",
        "folders %>% select(id, name)"
      ],
      "metadata": {
        "id": "raNCoBC-mnEv"
      },
      "execution_count": null,
      "outputs": []
    },
    {
      "cell_type": "markdown",
      "source": [
        "# Convert Files"
      ],
      "metadata": {
        "id": "2eQcY7o3vevp"
      }
    },
    {
      "cell_type": "code",
      "source": [
        "for (folder in seq_along(folders$id)) {\n",
        "    with_drive_quiet(\n",
        "        files <- folders[folder,]$id %>%\n",
        "            as_id() %>%\n",
        "            as_dribble() %>%\n",
        "            drive_ls(q=\"fileExtension contains 'sas7bdat'\", trashed=FALSE) %>%\n",
        "            arrange(name)\n",
        "    )\n",
        "    for (file in seq_along(files$id)) {\n",
        "        sas <- files[file,]$name\n",
        "        csv <- sas %>% str_replace('\\\\..*', '.csv')\n",
        "        raw <- files[file,]$id\n",
        "        parent <- files[file,]$drive_resource[[1]]$parents[[1]]\n",
        "        raw %>% drive_download(overwrite=TRUE)\n",
        "        sas %>% read_sas(encoding=SAS_ENCODING) %>% write_excel_csv(csv)\n",
        "        csv %>% drive_upload(path=as_id(parent), overwrite=TRUE)\n",
        "        if (DELETE_RAW) raw %>% as_dribble() %>% drive_trash()\n",
        "        paste('rm', sas) %>% system(intern=TRUE)\n",
        "        paste('rm', csv) %>% system(intern=TRUE)\n",
        "        cat(paste(round(file/nrow(files)*100, digits=2), '% files\\n'))\n",
        "        cat(paste(round(folder/nrow(folders)*100, digits=2), '% folders\\n\\n'))\n",
        "    }\n",
        "}"
      ],
      "metadata": {
        "id": "hrfZYVBmoiLp"
      },
      "execution_count": null,
      "outputs": []
    },
    {
      "cell_type": "markdown",
      "source": [
        "# References\n",
        "1. https://developers.google.com/drive/api/v2/reference/files/trash\n",
        "2. https://developers.google.com/drive/api/guides/ref-roles"
      ],
      "metadata": {
        "id": "jfsTQbCZCLwE"
      }
    }
  ]
}
