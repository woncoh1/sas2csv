{
  "nbformat": 4,
  "nbformat_minor": 0,
  "metadata": {
    "colab": {
      "name": "sss2csv-nested.ipynb",
      "provenance": [],
      "collapsed_sections": [],
      "toc_visible": true,
      "authorship_tag": "ABX9TyMEYRZeOv7FhVOq7IkCJT/h",
      "include_colab_link": true
    },
    "kernelspec": {
      "name": "ir",
      "display_name": "R"
    },
    "language_info": {
      "name": "R"
    },
    "gpuClass": "standard"
  },
  "cells": [
    {
      "cell_type": "markdown",
      "metadata": {
        "id": "view-in-github",
        "colab_type": "text"
      },
      "source": [
        "<a href=\"https://colab.research.google.com/github/woncoh1/sss2csv/blob/main/sss2csv_nested.ipynb\" target=\"_parent\"><img src=\"https://colab.research.google.com/assets/colab-badge.svg\" alt=\"Open In Colab\"/></a>"
      ]
    },
    {
      "cell_type": "markdown",
      "source": [
        "# [User Guide](https://github.com/woncoh1/sas2csv)\n",
        "1. [Define Constants](#define)\n",
        "2. Runtime → Run all (Ctrl+F9)\n",
        "3. Enter [Authentication Code](#auth)\n",
        "4. [Convert Files](#convert)"
      ],
      "metadata": {
        "id": "m0WkfEN3Pc0Q"
      }
    },
    {
      "cell_type": "markdown",
      "source": [
        "<a name=\"define\"></a>\n",
        "# Define Constants"
      ],
      "metadata": {
        "id": "OYoBAaMUBQxp"
      }
    },
    {
      "cell_type": "code",
      "source": [
        "#@title Enter Main Folder ID {run: 'auto'}\n",
        "FOLDER_ID <- '' #@param {type: 'string'}"
      ],
      "metadata": {
        "cellView": "form",
        "id": "N62tJmMWuzlw"
      },
      "execution_count": null,
      "outputs": []
    },
    {
      "cell_type": "code",
      "source": [
        "#@title Select File Extension {run: 'auto'}\n",
        "EXTENSION <- 'sas7bdat' #@param ['sas7bdat', 'sav', 'dta']"
      ],
      "metadata": {
        "cellView": "form",
        "id": "-OE0_VfUM7LB"
      },
      "execution_count": null,
      "outputs": []
    },
    {
      "cell_type": "code",
      "source": [
        "#@title Select Character Encoding {run: 'auto'}\n",
        "ENCODING <- 'cp949' #@param ['utf-8', 'latin1', 'cp949', 'euc-kr']"
      ],
      "metadata": {
        "cellView": "form",
        "id": "rU12YvtpSUhM"
      },
      "execution_count": null,
      "outputs": []
    },
    {
      "cell_type": "code",
      "source": [
        "#@title Delete all Input Files? {run: 'auto'}\n",
        "#@markdown **WARNING**:\n",
        "#@markdown - Selecting \"Yes\" will move all raw files to trash\n",
        "#@markdown - You need file-level owner permission to move files to trash\n",
        "DELETE_ALL <- 'No' #@param ['Yes', 'No']\n",
        "DELETES <- c(\n",
        "    No=FALSE,\n",
        "    Yes=TRUE\n",
        ")\n",
        "DELETE_RAW <- DELETES[[DELETE_ALL]]"
      ],
      "metadata": {
        "cellView": "form",
        "id": "X4WM7-j583Cj"
      },
      "execution_count": null,
      "outputs": []
    },
    {
      "cell_type": "markdown",
      "source": [
        "# Import Libraries"
      ],
      "metadata": {
        "id": "ce7KM8jKz4sd"
      }
    },
    {
      "cell_type": "code",
      "source": [
        "library(tidyverse)\n",
        "library(haven)\n",
        "library(glue)\n",
        "library(googledrive)"
      ],
      "metadata": {
        "id": "zvRAmHjI67l5"
      },
      "execution_count": null,
      "outputs": []
    },
    {
      "cell_type": "markdown",
      "source": [
        "# Authenticate Drive\n",
        "- In order to access files in Google Drive, we need authentication, which requires an interactive R session\n",
        "- Unfortunately, R session in Colab is non-interactive by default, so we need to monkey-patch, as described [here](https://towardsdatascience.com/how-to-use-r-in-google-colab-b6e02d736497#2176):"
      ],
      "metadata": {
        "id": "Decn8NYoQRQv"
      }
    },
    {
      "cell_type": "code",
      "source": [
        "COLAB_KERNEL = '/usr/local/lib/python3.7/dist-packages/google/colab/_ipython.py'\n",
        "is_colab = file.exists(COLAB_KERNEL)\n",
        "if (is_colab) {\n",
        "    install.packages('R.utils')\n",
        "    library('R.utils')\n",
        "    library('httr')\n",
        "    reassignInPackage('is_interactive', pkgName='httr', function() TRUE)\n",
        "    options(rlang_interactive=TRUE)\n",
        "}"
      ],
      "metadata": {
        "id": "BgHaJNBlCZB5"
      },
      "execution_count": null,
      "outputs": []
    },
    {
      "cell_type": "markdown",
      "source": [
        "<a name=\"auth\"></a>\n",
        "## Authentication Code"
      ],
      "metadata": {
        "id": "SmAbYtWffdca"
      }
    },
    {
      "cell_type": "code",
      "source": [
        "drive_auth(use_oob=TRUE, cache=TRUE)"
      ],
      "metadata": {
        "id": "T6cn-Ra_-s4I"
      },
      "execution_count": null,
      "outputs": []
    },
    {
      "cell_type": "markdown",
      "source": [
        "# List Folders"
      ],
      "metadata": {
        "id": "s2lkv9o9QUH8"
      }
    },
    {
      "cell_type": "code",
      "source": [
        "with_drive_quiet(\n",
        "    folders <- FOLDER_ID %>%\n",
        "        as_id() %>%\n",
        "        as_dribble() %>%\n",
        "        drive_ls(type='folder', trashed=FALSE) %>%\n",
        "        arrange(name)\n",
        ")"
      ],
      "metadata": {
        "id": "raNCoBC-mnEv"
      },
      "execution_count": null,
      "outputs": []
    },
    {
      "cell_type": "code",
      "source": [
        "folders %>% select(id, name)"
      ],
      "metadata": {
        "id": "djsesEPvASOb"
      },
      "execution_count": null,
      "outputs": []
    },
    {
      "cell_type": "markdown",
      "source": [
        "# List Files"
      ],
      "metadata": {
        "id": "fEMFoyTpLMk-"
      }
    },
    {
      "cell_type": "code",
      "source": [
        "get_query <- function(extension) {\n",
        "    glue(\"fileExtension contains '{extension}'\")\n",
        "}"
      ],
      "metadata": {
        "id": "dJ5CyPtPHEjt"
      },
      "execution_count": null,
      "outputs": []
    },
    {
      "cell_type": "code",
      "source": [
        "get_files <- function(id, extension) {\n",
        "    id %>%\n",
        "    as_id() %>%\n",
        "    as_dribble() %>%\n",
        "    drive_ls(q=get_query(extension), trashed=FALSE) %>%\n",
        "    arrange(name)\n",
        "}"
      ],
      "metadata": {
        "id": "nRT1w0o6Lqzb"
      },
      "execution_count": null,
      "outputs": []
    },
    {
      "cell_type": "code",
      "source": [
        "with_drive_quiet(\n",
        "    files <- folders$id %>%\n",
        "        map(get_files, EXTENSION) %>%\n",
        "        bind_rows()\n",
        ")"
      ],
      "metadata": {
        "id": "ArJusGwJMETO"
      },
      "execution_count": null,
      "outputs": []
    },
    {
      "cell_type": "code",
      "source": [
        "files %>% select(id, name)"
      ],
      "metadata": {
        "id": "YjtsX0nrM0-r"
      },
      "execution_count": null,
      "outputs": []
    },
    {
      "cell_type": "markdown",
      "source": [
        "<a name=\"convert\"></a>\n",
        "# Convert Files"
      ],
      "metadata": {
        "id": "2eQcY7o3vevp"
      }
    },
    {
      "cell_type": "code",
      "source": [
        "reads <- c(\n",
        "    sas7bdat=read_sas,\n",
        "    sav=read_sav,\n",
        "    dta=read_dta\n",
        ")"
      ],
      "metadata": {
        "id": "vXJM8xInRcDF"
      },
      "execution_count": null,
      "outputs": []
    },
    {
      "cell_type": "code",
      "source": [
        "for (file in seq_along(files$id)) {\n",
        "    after_dot <- '\\\\..*'\n",
        "    raw <- files[file,]$id\n",
        "    inp <- files[file,]$name\n",
        "    out <- inp %>% str_replace(after_dot, '.csv')\n",
        "    parent <- files[file,]$drive_resource[[1]]$parents[[1]] %>% as_id()\n",
        "    raw %>% drive_download(overwrite=TRUE)\n",
        "    inp %>% reads[[EXTENSION]](encoding=ENCODING) %>% write_excel_csv(out)\n",
        "    out %>% drive_upload(path=parent, overwrite=TRUE)\n",
        "    if (DELETE_RAW) raw %>% drive_trash()\n",
        "    paste('rm', inp) %>% system(intern=TRUE)\n",
        "    paste('rm', out) %>% system(intern=TRUE)\n",
        "    cat(paste(file, '/', nrow(files), 'files\\n'))\n",
        "    cat(paste(round(file/nrow(files)*100, digits=2), '% completed\\n\\n'))\n",
        "}"
      ],
      "metadata": {
        "id": "hrfZYVBmoiLp"
      },
      "execution_count": null,
      "outputs": []
    },
    {
      "cell_type": "markdown",
      "source": [
        "# References\n",
        "1. https://developers.google.com/drive/api/v2/reference/files/trash\n",
        "2. https://developers.google.com/drive/api/guides/ref-roles"
      ],
      "metadata": {
        "id": "jfsTQbCZCLwE"
      }
    }
  ]
}